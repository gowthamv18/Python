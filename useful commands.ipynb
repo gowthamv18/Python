{
 "cells": [
  {
   "cell_type": "code",
   "execution_count": 16,
   "metadata": {},
   "outputs": [],
   "source": [
    "l = [1,2,3,4,5,6,7,8,9,10]\n"
   ]
  },
  {
   "cell_type": "code",
   "execution_count": null,
   "metadata": {},
   "outputs": [],
   "source": []
  },
  {
   "cell_type": "code",
   "execution_count": 3,
   "metadata": {},
   "outputs": [
    {
     "name": "stdout",
     "output_type": "stream",
     "text": [
      "hello\n",
      "hello\n",
      "hello\n",
      "hello\n",
      "hello\n",
      "hello\n",
      "hello\n",
      "hello\n",
      "hello\n"
     ]
    }
   ],
   "source": [
    "for num in l:\n",
    "    print ('hello')"
   ]
  },
  {
   "cell_type": "code",
   "execution_count": 14,
   "metadata": {},
   "outputs": [
    {
     "name": "stdout",
     "output_type": "stream",
     "text": [
      "odd = 1\n",
      "even 2\n",
      "odd = 3\n",
      "even 4\n",
      "odd = 5\n",
      "even 6\n",
      "odd = 7\n",
      "even 8\n",
      "odd = 9\n"
     ]
    }
   ],
   "source": [
    "for even in l:\n",
    "    if even % 2 == 0:\n",
    "        print (\"even\",even)\n",
    "    else:\n",
    "        print(\"odd = {}\".format(even))"
   ]
  },
  {
   "cell_type": "code",
   "execution_count": 19,
   "metadata": {},
   "outputs": [
    {
     "name": "stdout",
     "output_type": "stream",
     "text": [
      "55\n"
     ]
    }
   ],
   "source": [
    "sum =0\n",
    "\n",
    "for even in l:\n",
    "    sum = sum + even\n",
    "print (sum)"
   ]
  },
  {
   "cell_type": "code",
   "execution_count": 1,
   "metadata": {},
   "outputs": [
    {
     "name": "stdout",
     "output_type": "stream",
     "text": [
      "palindrom\n"
     ]
    }
   ],
   "source": [
    "string = \"loooooool\"\n",
    "stringrev = string[::-1]\n",
    "if string ==stringrev:\n",
    "    print(\"palindrom\")\n",
    "else:\n",
    "    print(\"sorry\")"
   ]
  },
  {
   "cell_type": "code",
   "execution_count": 52,
   "metadata": {},
   "outputs": [],
   "source": [
    "list = [(1,2),(2,3),(5,6),(7,8),(9,10)]\n"
   ]
  },
  {
   "cell_type": "code",
   "execution_count": 47,
   "metadata": {},
   "outputs": [
    {
     "data": {
      "text/plain": [
       "[(1, 2), (2, 3), (5, 6), (7, 8), (9, 10)]"
      ]
     },
     "execution_count": 47,
     "metadata": {},
     "output_type": "execute_result"
    }
   ],
   "source": [
    "list"
   ]
  },
  {
   "cell_type": "code",
   "execution_count": 54,
   "metadata": {},
   "outputs": [
    {
     "ename": "ValueError",
     "evalue": "not enough values to unpack (expected 3, got 2)",
     "output_type": "error",
     "traceback": [
      "\u001b[1;31m---------------------------------------------------------------------------\u001b[0m",
      "\u001b[1;31mValueError\u001b[0m                                Traceback (most recent call last)",
      "\u001b[1;32m<ipython-input-54-aa259691c93b>\u001b[0m in \u001b[0;36m<module>\u001b[1;34m\u001b[0m\n\u001b[1;32m----> 1\u001b[1;33m \u001b[1;32mfor\u001b[0m \u001b[0mi\u001b[0m\u001b[1;33m,\u001b[0m\u001b[0mj\u001b[0m\u001b[1;33m,\u001b[0m\u001b[0mk\u001b[0m \u001b[1;32min\u001b[0m \u001b[0mlist\u001b[0m\u001b[1;33m:\u001b[0m\u001b[1;33m\u001b[0m\u001b[1;33m\u001b[0m\u001b[0m\n\u001b[0m\u001b[0;32m      2\u001b[0m     \u001b[0mprint\u001b[0m\u001b[1;33m(\u001b[0m\u001b[0mi\u001b[0m\u001b[1;33m,\u001b[0m\u001b[0mj\u001b[0m\u001b[1;33m)\u001b[0m\u001b[1;33m\u001b[0m\u001b[1;33m\u001b[0m\u001b[0m\n",
      "\u001b[1;31mValueError\u001b[0m: not enough values to unpack (expected 3, got 2)"
     ]
    }
   ],
   "source": [
    "for i,j,k in list:\n",
    "    print(i,j)"
   ]
  },
  {
   "cell_type": "code",
   "execution_count": 62,
   "metadata": {},
   "outputs": [],
   "source": [
    "d = {'k1':1,'k2':2,'k3':3}\n"
   ]
  },
  {
   "cell_type": "code",
   "execution_count": 63,
   "metadata": {},
   "outputs": [
    {
     "data": {
      "text/plain": [
       "1"
      ]
     },
     "execution_count": 63,
     "metadata": {},
     "output_type": "execute_result"
    }
   ],
   "source": [
    "d['k1']"
   ]
  },
  {
   "cell_type": "code",
   "execution_count": 82,
   "metadata": {},
   "outputs": [
    {
     "name": "stdout",
     "output_type": "stream",
     "text": [
      "('k1', 1)\n",
      "('k2', 2)\n",
      "('k3', 3)\n"
     ]
    }
   ],
   "source": [
    "for value in d.items():\n",
    "    print(value)"
   ]
  },
  {
   "cell_type": "code",
   "execution_count": 2,
   "metadata": {},
   "outputs": [
    {
     "name": "stdout",
     "output_type": "stream",
     "text": [
      "0\n",
      "1\n",
      "2\n",
      "3\n"
     ]
    }
   ],
   "source": [
    "x = 0\n",
    "\n",
    "while x < 4:\n",
    "    print(x)\n",
    "    x += 1\n",
    " \n"
   ]
  },
  {
   "cell_type": "code",
   "execution_count": 3,
   "metadata": {},
   "outputs": [
    {
     "data": {
      "text/plain": [
       "range(1, 10)"
      ]
     },
     "execution_count": 3,
     "metadata": {},
     "output_type": "execute_result"
    }
   ],
   "source": [
    " range(1,10)"
   ]
  },
  {
   "cell_type": "code",
   "execution_count": 4,
   "metadata": {},
   "outputs": [
    {
     "data": {
      "text/plain": [
       "[1, 2, 3, 4, 5, 6, 7, 8, 9]"
      ]
     },
     "execution_count": 4,
     "metadata": {},
     "output_type": "execute_result"
    }
   ],
   "source": [
    "list(range(1,10))"
   ]
  },
  {
   "cell_type": "code",
   "execution_count": 6,
   "metadata": {},
   "outputs": [
    {
     "name": "stdout",
     "output_type": "stream",
     "text": [
      "100\n",
      "101\n",
      "102\n",
      "103\n",
      "104\n",
      "105\n",
      "106\n",
      "107\n",
      "108\n",
      "109\n",
      "110\n"
     ]
    }
   ],
   "source": [
    "list = [1,2]\n",
    "for num in range(100,111):\n",
    "    print(num)"
   ]
  },
  {
   "cell_type": "code",
   "execution_count": 60,
   "metadata": {},
   "outputs": [
    {
     "name": "stdin",
     "output_type": "stream",
     "text": [
      "name bjbh\n"
     ]
    },
    {
     "name": "stdout",
     "output_type": "stream",
     "text": [
      "b\n",
      "j\n",
      "b\n",
      "h\n"
     ]
    }
   ],
   "source": [
    "name = input(\"name\")\n",
    "rev = name[::-1]\n",
    "for string in name:\n",
    "    if name != rev:\n",
    "        print(string)\n",
    "    elif name ==rev :\n",
    "        print(\"out\")\n",
    "        \n",
    "        \n",
    "    \n",
    "    \n",
    "    "
   ]
  },
  {
   "cell_type": "code",
   "execution_count": 2,
   "metadata": {},
   "outputs": [],
   "source": [
    "l=[1,2,3,4,5,6]"
   ]
  },
  {
   "cell_type": "code",
   "execution_count": 4,
   "metadata": {},
   "outputs": [
    {
     "name": "stdout",
     "output_type": "stream",
     "text": [
      "0\n",
      "1\n",
      "2\n",
      "3\n",
      "4\n",
      "5\n",
      "6\n",
      "7\n",
      "8\n",
      "9\n"
     ]
    }
   ],
   "source": [
    "for item in range(10):\n",
    "    print(item)"
   ]
  },
  {
   "cell_type": "code",
   "execution_count": 5,
   "metadata": {},
   "outputs": [],
   "source": [
    "l1=[7,8,9,10,11,12]"
   ]
  },
  {
   "cell_type": "code",
   "execution_count": 6,
   "metadata": {},
   "outputs": [
    {
     "data": {
      "text/plain": [
       "<zip at 0x235ebe26a08>"
      ]
     },
     "execution_count": 6,
     "metadata": {},
     "output_type": "execute_result"
    }
   ],
   "source": [
    "zip(l,l1)"
   ]
  },
  {
   "cell_type": "code",
   "execution_count": 7,
   "metadata": {},
   "outputs": [
    {
     "data": {
      "text/plain": [
       "[(1, 7), (2, 8), (3, 9), (4, 10), (5, 11), (6, 12)]"
      ]
     },
     "execution_count": 7,
     "metadata": {},
     "output_type": "execute_result"
    }
   ],
   "source": [
    "list(zip(l,l1))"
   ]
  },
  {
   "cell_type": "code",
   "execution_count": 8,
   "metadata": {},
   "outputs": [
    {
     "name": "stdout",
     "output_type": "stream",
     "text": [
      "(1, 7)\n",
      "(2, 8)\n",
      "(3, 9)\n",
      "(4, 10)\n",
      "(5, 11)\n",
      "(6, 12)\n"
     ]
    }
   ],
   "source": [
    "for item in zip(l,l1):\n",
    "    print(item)"
   ]
  },
  {
   "cell_type": "code",
   "execution_count": 9,
   "metadata": {},
   "outputs": [],
   "source": [
    "from random import randint\n"
   ]
  },
  {
   "cell_type": "code",
   "execution_count": 13,
   "metadata": {},
   "outputs": [
    {
     "data": {
      "text/plain": [
       "657"
      ]
     },
     "execution_count": 13,
     "metadata": {},
     "output_type": "execute_result"
    }
   ],
   "source": [
    "randint(1,1000)"
   ]
  },
  {
   "cell_type": "code",
   "execution_count": 1,
   "metadata": {},
   "outputs": [],
   "source": [
    "from random import shuffle\n"
   ]
  },
  {
   "cell_type": "code",
   "execution_count": 2,
   "metadata": {},
   "outputs": [],
   "source": [
    "d={'k1':1,'k2':2}"
   ]
  },
  {
   "cell_type": "code",
   "execution_count": 17,
   "metadata": {},
   "outputs": [
    {
     "data": {
      "text/plain": [
       "{'k1': 1, 'k2': 2}"
      ]
     },
     "execution_count": 17,
     "metadata": {},
     "output_type": "execute_result"
    }
   ],
   "source": [
    "d"
   ]
  },
  {
   "cell_type": "code",
   "execution_count": 18,
   "metadata": {},
   "outputs": [
    {
     "ename": "AttributeError",
     "evalue": "'dict' object has no attribute 'append'",
     "output_type": "error",
     "traceback": [
      "\u001b[1;31m---------------------------------------------------------------------------\u001b[0m",
      "\u001b[1;31mAttributeError\u001b[0m                            Traceback (most recent call last)",
      "\u001b[1;32m<ipython-input-18-ae2e90444619>\u001b[0m in \u001b[0;36m<module>\u001b[1;34m\u001b[0m\n\u001b[1;32m----> 1\u001b[1;33m \u001b[0md\u001b[0m\u001b[1;33m.\u001b[0m\u001b[0mappend\u001b[0m\u001b[1;33m(\u001b[0m\u001b[1;33m)\u001b[0m\u001b[1;33m\u001b[0m\u001b[1;33m\u001b[0m\u001b[0m\n\u001b[0m",
      "\u001b[1;31mAttributeError\u001b[0m: 'dict' object has no attribute 'append'"
     ]
    }
   ],
   "source": [
    "d.append()"
   ]
  },
  {
   "cell_type": "code",
   "execution_count": 26,
   "metadata": {},
   "outputs": [],
   "source": [
    "li=[12,3,1,51,51]"
   ]
  },
  {
   "cell_type": "code",
   "execution_count": 34,
   "metadata": {},
   "outputs": [],
   "source": [
    "li2=[]"
   ]
  },
  {
   "cell_type": "code",
   "execution_count": 35,
   "metadata": {},
   "outputs": [],
   "source": [
    "for no in li:\n",
    "    li2.append(no)\n",
    "    "
   ]
  },
  {
   "cell_type": "code",
   "execution_count": 36,
   "metadata": {},
   "outputs": [
    {
     "data": {
      "text/plain": [
       "[12, 3, 1, 51, 51]"
      ]
     },
     "execution_count": 36,
     "metadata": {},
     "output_type": "execute_result"
    }
   ],
   "source": [
    "li2"
   ]
  },
  {
   "cell_type": "code",
   "execution_count": 37,
   "metadata": {},
   "outputs": [],
   "source": [
    "li2=[no for no in li ]"
   ]
  },
  {
   "cell_type": "code",
   "execution_count": 38,
   "metadata": {},
   "outputs": [
    {
     "data": {
      "text/plain": [
       "[12, 3, 1, 51, 51]"
      ]
     },
     "execution_count": 38,
     "metadata": {},
     "output_type": "execute_result"
    }
   ],
   "source": [
    "li2"
   ]
  },
  {
   "cell_type": "code",
   "execution_count": 9,
   "metadata": {},
   "outputs": [],
   "source": [
    "st='create a list of the first letters of every word in this string'"
   ]
  },
  {
   "cell_type": "code",
   "execution_count": 10,
   "metadata": {},
   "outputs": [
    {
     "data": {
      "text/plain": [
       "'create a list of the first letters of every word in this string'"
      ]
     },
     "execution_count": 10,
     "metadata": {},
     "output_type": "execute_result"
    }
   ],
   "source": [
    "st\n"
   ]
  },
  {
   "cell_type": "code",
   "execution_count": 17,
   "metadata": {},
   "outputs": [
    {
     "name": "stdout",
     "output_type": "stream",
     "text": [
      "c\n",
      "a\n",
      "l\n",
      "o\n",
      "t\n",
      "f\n",
      "l\n",
      "o\n",
      "e\n",
      "w\n",
      "i\n",
      "t\n",
      "s\n"
     ]
    }
   ],
   "source": [
    "for letter in st.split():\n",
    "    print(letter[0])"
   ]
  },
  {
   "cell_type": "markdown",
   "metadata": {},
   "source": [
    "# letter =[char[0] for char in st.split() ]"
   ]
  },
  {
   "cell_type": "code",
   "execution_count": 18,
   "metadata": {},
   "outputs": [
    {
     "data": {
      "text/plain": [
       "'string'"
      ]
     },
     "execution_count": 18,
     "metadata": {},
     "output_type": "execute_result"
    }
   ],
   "source": [
    "letter"
   ]
  },
  {
   "cell_type": "code",
   "execution_count": 54,
   "metadata": {},
   "outputs": [
    {
     "name": "stdout",
     "output_type": "stream",
     "text": [
      "0\n",
      "2\n",
      "4\n",
      "6\n",
      "8\n",
      "10\n"
     ]
    }
   ],
   "source": [
    "for num in range(0,11):\n",
    "    if num % 2 == 0:\n",
    "        print(num)"
   ]
  },
  {
   "cell_type": "code",
   "execution_count": 53,
   "metadata": {},
   "outputs": [
    {
     "name": "stdout",
     "output_type": "stream",
     "text": [
      "0\n",
      "3\n",
      "6\n",
      "9\n",
      "12\n",
      "15\n",
      "18\n",
      "21\n",
      "24\n",
      "27\n",
      "30\n",
      "33\n",
      "36\n",
      "39\n",
      "42\n",
      "45\n",
      "48\n"
     ]
    }
   ],
   "source": [
    "for num in range(0,51):\n",
    "    if num % 3 == 0:\n",
    "        print(num)"
   ]
  },
  {
   "cell_type": "code",
   "execution_count": 55,
   "metadata": {},
   "outputs": [
    {
     "data": {
      "text/plain": [
       "[0, 3, 6, 9, 12, 15, 18, 21, 24, 27, 30, 33, 36, 39, 42, 45, 48]"
      ]
     },
     "execution_count": 55,
     "metadata": {},
     "output_type": "execute_result"
    }
   ],
   "source": [
    "[num for num in range(0,51) if num % 3 ==0]"
   ]
  },
  {
   "cell_type": "code",
   "execution_count": 56,
   "metadata": {},
   "outputs": [
    {
     "data": {
      "text/plain": [
       "'create a list of the first letters of every word in this string'"
      ]
     },
     "execution_count": 56,
     "metadata": {},
     "output_type": "execute_result"
    }
   ],
   "source": [
    "st"
   ]
  },
  {
   "cell_type": "code",
   "execution_count": 57,
   "metadata": {},
   "outputs": [],
   "source": [
    "st ='print every word in this sentence that has an even number of letters'\n"
   ]
  },
  {
   "cell_type": "code",
   "execution_count": 72,
   "metadata": {},
   "outputs": [
    {
     "data": {
      "text/plain": [
       "'print every word in this sentence that has an even number of letters'"
      ]
     },
     "execution_count": 72,
     "metadata": {},
     "output_type": "execute_result"
    }
   ],
   "source": [
    "st"
   ]
  },
  {
   "cell_type": "code",
   "execution_count": 76,
   "metadata": {},
   "outputs": [
    {
     "name": "stdout",
     "output_type": "stream",
     "text": [
      "word   even\n",
      "in   even\n",
      "this   even\n",
      "sentence   even\n",
      "that   even\n",
      "an   even\n",
      "even   even\n",
      "number   even\n",
      "of   even\n"
     ]
    }
   ],
   "source": [
    "\n",
    "for char in st.split():\n",
    "    if len(char) %2 == 0:\n",
    "        print(char + '   even')"
   ]
  },
  {
   "cell_type": "code",
   "execution_count": 78,
   "metadata": {},
   "outputs": [
    {
     "ename": "AttributeError",
     "evalue": "'str' object has no attribute 'append'",
     "output_type": "error",
     "traceback": [
      "\u001b[1;31m---------------------------------------------------------------------------\u001b[0m",
      "\u001b[1;31mAttributeError\u001b[0m                            Traceback (most recent call last)",
      "\u001b[1;32m<ipython-input-78-584b4ad38472>\u001b[0m in \u001b[0;36m<module>\u001b[1;34m\u001b[0m\n\u001b[1;32m----> 1\u001b[1;33m \u001b[0mst\u001b[0m\u001b[1;33m.\u001b[0m\u001b[0mappend\u001b[0m\u001b[1;33m(\u001b[0m\u001b[1;34m'gowtham'\u001b[0m\u001b[1;33m)\u001b[0m\u001b[1;33m\u001b[0m\u001b[1;33m\u001b[0m\u001b[0m\n\u001b[0m",
      "\u001b[1;31mAttributeError\u001b[0m: 'str' object has no attribute 'append'"
     ]
    }
   ],
   "source": [
    "st.append('gowtham')"
   ]
  },
  {
   "cell_type": "code",
   "execution_count": 91,
   "metadata": {},
   "outputs": [],
   "source": [
    "def vowel_check(mystring):\n",
    "        first = mystring[0]\n",
    "        if first in 'aeiou':\n",
    "            word = mystring + 'ay'\n",
    "        else:\n",
    "            word = mystring[:1] + first +'ay'\n",
    "        return word\n",
    "            "
   ]
  },
  {
   "cell_type": "code",
   "execution_count": 97,
   "metadata": {},
   "outputs": [
    {
     "data": {
      "text/plain": [
       "'ggay'"
      ]
     },
     "execution_count": 97,
     "metadata": {},
     "output_type": "execute_result"
    }
   ],
   "source": [
    "vowel_check('gowtham')"
   ]
  },
  {
   "cell_type": "code",
   "execution_count": 84,
   "metadata": {},
   "outputs": [
    {
     "ename": "NameError",
     "evalue": "name 'a' is not defined",
     "output_type": "error",
     "traceback": [
      "\u001b[1;31m---------------------------------------------------------------------------\u001b[0m",
      "\u001b[1;31mNameError\u001b[0m                                 Traceback (most recent call last)",
      "\u001b[1;32m<ipython-input-84-903c5d1d71f3>\u001b[0m in \u001b[0;36m<module>\u001b[1;34m\u001b[0m\n\u001b[1;32m----> 1\u001b[1;33m \u001b[0ma\u001b[0m \u001b[1;32min\u001b[0m \u001b[1;34m'aeior'\u001b[0m\u001b[1;33m\u001b[0m\u001b[1;33m\u001b[0m\u001b[0m\n\u001b[0m",
      "\u001b[1;31mNameError\u001b[0m: name 'a' is not defined"
     ]
    }
   ],
   "source": [
    "a in 'aeior'\n"
   ]
  },
  {
   "cell_type": "code",
   "execution_count": 108,
   "metadata": {},
   "outputs": [],
   "source": [
    "def vowel_check(mystring):\n",
    "        if mystring[0] in 'aeiou':\n",
    "            word = mystring + 'ay'\n",
    "        else:\n",
    "            word = mystring[1:] + mystring[0] +'ay'\n",
    "        return word\n",
    "            "
   ]
  },
  {
   "cell_type": "code",
   "execution_count": 109,
   "metadata": {},
   "outputs": [
    {
     "data": {
      "text/plain": [
       "'ppleway'"
      ]
     },
     "execution_count": 109,
     "metadata": {},
     "output_type": "execute_result"
    }
   ],
   "source": [
    "vowel_check('wpple')"
   ]
  },
  {
   "cell_type": "code",
   "execution_count": 110,
   "metadata": {},
   "outputs": [
    {
     "name": "stdout",
     "output_type": "stream",
     "text": [
      "Valan\n"
     ]
    }
   ],
   "source": [
    "print(\"Valan\")"
   ]
  },
  {
   "cell_type": "code",
   "execution_count": 111,
   "metadata": {},
   "outputs": [
    {
     "name": "stdout",
     "output_type": "stream",
     "text": [
      "Gowtham\n"
     ]
    }
   ],
   "source": [
    "print(\"Gowtham\")"
   ]
  },
  {
   "cell_type": "code",
   "execution_count": 113,
   "metadata": {},
   "outputs": [
    {
     "name": "stdout",
     "output_type": "stream",
     "text": [
      "Data Science\n"
     ]
    }
   ],
   "source": [
    "print(\"Data Science\")"
   ]
  },
  {
   "cell_type": "code",
   "execution_count": 33,
   "metadata": {},
   "outputs": [],
   "source": [
    "def prime(n):\n",
    "    if n%2==0 or n%3==0 or n%5==0 or n%7==0 :\n",
    "        print(\"not prime\")\n",
    "    else:\n",
    "        print(\"Prime\")\n",
    "    \n",
    "    \n",
    "\n",
    "    \n"
   ]
  },
  {
   "cell_type": "code",
   "execution_count": 52,
   "metadata": {},
   "outputs": [
    {
     "name": "stdout",
     "output_type": "stream",
     "text": [
      "not prime\n"
     ]
    }
   ],
   "source": [
    "prime(198)"
   ]
  },
  {
   "cell_type": "code",
   "execution_count": null,
   "metadata": {},
   "outputs": [],
   "source": [
    "prime=[1,2,3]\n",
    "for n in range(10,20):\n",
    "    if n%2==0 or n%3==0 or n%5==0 or n%7==0:\n",
    "        print(n+1)  "
   ]
  },
  {
   "cell_type": "code",
   "execution_count": null,
   "metadata": {},
   "outputs": [],
   "source": [
    "lower = int(input(\"Enter lower range: \"))  \n",
    "upper = int(input(\"Enter upper range: \"))  \n",
    "  \n",
    "for num in range(lower,upper + 1):  \n",
    "   if num > 1:  \n",
    "       for i in range(2,num):  \n",
    "           if (num % i) == 0:  \n",
    "               break  \n",
    "       else:  \n",
    "           print(num)  "
   ]
  },
  {
   "cell_type": "code",
   "execution_count": null,
   "metadata": {},
   "outputs": [],
   "source": [
    "prime=[1,2,3]\n",
    "for n in range(10,20):\n",
    "    if n > 1:\n",
    "        for i in range(2,n):\n",
    "            if (num%i) == :\n",
    "                break\n",
    "        else:\n",
    "            print(n)"
   ]
  },
  {
   "cell_type": "markdown",
   "metadata": {},
   "source": []
  },
  {
   "cell_type": "code",
   "execution_count": 2,
   "metadata": {},
   "outputs": [],
   "source": [
    "prime=[1,2,3]\n",
    "for n in range(10,20):\n",
    "    if n > 1:\n",
    "        for i in range(2,n):\n",
    "            if (num%i) == 0:\n",
    "                break\n",
    "        else:\n",
    "            print(n)"
   ]
  },
  {
   "cell_type": "code",
   "execution_count": 2,
   "metadata": {},
   "outputs": [
    {
     "name": "stdin",
     "output_type": "stream",
     "text": [
      "Enter lower range:  1\n",
      "Enter upper range:  50\n"
     ]
    },
    {
     "name": "stdout",
     "output_type": "stream",
     "text": [
      "2\n",
      "3\n",
      "5\n",
      "7\n",
      "11\n",
      "13\n",
      "17\n",
      "19\n",
      "23\n",
      "29\n",
      "31\n",
      "37\n",
      "41\n",
      "43\n",
      "47\n"
     ]
    }
   ],
   "source": [
    "lower = int(input(\"Enter lower range: \"))  \n",
    "upper = int(input(\"Enter upper range: \"))  \n",
    "  \n",
    "for num in range(lower,upper + 1):  \n",
    "    if num > 1:  \n",
    "        for i in range(2,num):  \n",
    "            if (num % i) == 0:  \n",
    "                break  \n",
    "        else:  \n",
    "            print(num)  "
   ]
  },
  {
   "cell_type": "code",
   "execution_count": 4,
   "metadata": {},
   "outputs": [],
   "source": [
    "for n in range(10,20):\n",
    "    if n > 1:\n",
    "        for i in range(2,n):\n",
    "            if (num%i) == 0:\n",
    "                break\n",
    "        else:\n",
    "            print(n)"
   ]
  },
  {
   "cell_type": "code",
   "execution_count": 80,
   "metadata": {},
   "outputs": [
    {
     "ename": "SyntaxError",
     "evalue": "invalid syntax (<ipython-input-80-2a8c17597a3b>, line 1)",
     "output_type": "error",
     "traceback": [
      "\u001b[1;36m  File \u001b[1;32m\"<ipython-input-80-2a8c17597a3b>\"\u001b[1;36m, line \u001b[1;32m1\u001b[0m\n\u001b[1;33m    def prime_checker(n)\u001b[0m\n\u001b[1;37m                        ^\u001b[0m\n\u001b[1;31mSyntaxError\u001b[0m\u001b[1;31m:\u001b[0m invalid syntax\n"
     ]
    }
   ],
   "source": [
    "def prime_checker(n)\n",
    "for n in range (10,20):\n",
    "    if n>1:\n",
    "        for i in range(2,n):\n",
    "            if n%i ==0:\n",
    "                break\n",
    "        else:\n",
    "            print(n)\n",
    "            \n",
    "        "
   ]
  },
  {
   "cell_type": "code",
   "execution_count": 78,
   "metadata": {},
   "outputs": [
    {
     "name": "stdout",
     "output_type": "stream",
     "text": [
      "A prime\n",
      "A prime\n",
      "A prime\n",
      "A prime\n",
      "A prime\n",
      "A prime\n",
      "A prime\n",
      "A prime\n",
      "A prime\n",
      "A prime\n",
      "A prime\n",
      "A prime\n",
      "A prime\n",
      "A prime\n",
      "A prime\n",
      "A prime\n",
      "A prime\n",
      "A prime\n",
      "A prime\n"
     ]
    }
   ],
   "source": [
    "prime_check(19)"
   ]
  },
  {
   "cell_type": "code",
   "execution_count": 62,
   "metadata": {},
   "outputs": [
    {
     "name": "stdout",
     "output_type": "stream",
     "text": [
      "11\n",
      "13\n",
      "17\n",
      "19\n",
      "23\n",
      "29\n"
     ]
    }
   ],
   "source": [
    "\n",
    "for n in range (10,30):\n",
    "    if n > 1:\n",
    "        for i in range(2,n):\n",
    "            if n%i == 0:\n",
    "                break\n",
    "        else:\n",
    "            print(n)"
   ]
  },
  {
   "cell_type": "code",
   "execution_count": 115,
   "metadata": {},
   "outputs": [
    {
     "name": "stdin",
     "output_type": "stream",
     "text": [
      "enter the 1st number 1\n",
      "enter the 2nd number 2\n"
     ]
    },
    {
     "name": "stdout",
     "output_type": "stream",
     "text": [
      "3\n",
      "quotient 0.5\n",
      "remainder 1\n",
      "subtract -1\n",
      "swap 2 1\n",
      "1\n"
     ]
    }
   ],
   "source": [
    "a=int(input(\"enter the 1st number\"))\n",
    "b=int(input(\"enter the 2nd number\"))\n",
    "\n",
    "c=a+b\n",
    "print(c)\n",
    "d=a/b\n",
    "e=a%b\n",
    "f=a-b\n",
    "print(\"quotient\",d)\n",
    "print(\"remainder\",e)\n",
    "print(\"subtract\",f)\n",
    "\n",
    "g=a\n",
    "a=b\n",
    "b=g\n",
    "print(\"swap\",a,b)\n"
   ]
  },
  {
   "cell_type": "code",
   "execution_count": 123,
   "metadata": {},
   "outputs": [
    {
     "name": "stdin",
     "output_type": "stream",
     "text": [
      "enter the word gowtham\n"
     ]
    },
    {
     "name": "stdout",
     "output_type": "stream",
     "text": [
      "mahtwog\n"
     ]
    }
   ],
   "source": [
    "def string_rev(string)\n",
    "a=str(input(\"enter the word\"))\n",
    "print(a[::-1])"
   ]
  },
  {
   "cell_type": "code",
   "execution_count": null,
   "metadata": {},
   "outputs": [],
   "source": []
  },
  {
   "cell_type": "code",
   "execution_count": 139,
   "metadata": {},
   "outputs": [],
   "source": [
    "def string_rev(str):\n",
    "    reversedString=[]\n",
    "    index = len(str) # calculate length of string and save in index\n",
    "    while index > 0:\n",
    "        reversedString += str[ index - 1 ] # save the value of str[index-1] in reverseString\n",
    "        index = index - 1 # decrement index\n",
    "    print(reversedString) # reversed string"
   ]
  },
  {
   "cell_type": "code",
   "execution_count": 140,
   "metadata": {},
   "outputs": [
    {
     "name": "stdout",
     "output_type": "stream",
     "text": [
      "['m', 'a', 'h', 't', 'w', 'o', 'G']\n"
     ]
    }
   ],
   "source": [
    "string_rev(\"Gowtham\")"
   ]
  },
  {
   "cell_type": "code",
   "execution_count": 146,
   "metadata": {},
   "outputs": [
    {
     "name": "stdin",
     "output_type": "stream",
     "text": [
      "enter the string gowham\n"
     ]
    },
    {
     "name": "stdout",
     "output_type": "stream",
     "text": [
      "['m', 'a', 'h', 'w', 'o', 'g']\n"
     ]
    }
   ],
   "source": [
    "a=input(\"enter the string\")\n",
    "string_rev=[]\n",
    "index=len(a)\n",
    "while index > 0:\n",
    "    string_rev += a[index-1]\n",
    "    index -= 1\n",
    "print(string_rev)"
   ]
  },
  {
   "cell_type": "code",
   "execution_count": 151,
   "metadata": {},
   "outputs": [],
   "source": [
    "str = \"Gowtham\"\n",
    "a=\"\".join(reversed(str))"
   ]
  },
  {
   "cell_type": "code",
   "execution_count": 152,
   "metadata": {},
   "outputs": [
    {
     "data": {
      "text/plain": [
       "'mahtwoG'"
      ]
     },
     "execution_count": 152,
     "metadata": {},
     "output_type": "execute_result"
    }
   ],
   "source": [
    "a"
   ]
  },
  {
   "cell_type": "code",
   "execution_count": 153,
   "metadata": {},
   "outputs": [],
   "source": [
    "def string_func(str):\n",
    "    return \"\".join(reversed(str))"
   ]
  },
  {
   "cell_type": "code",
   "execution_count": 154,
   "metadata": {},
   "outputs": [
    {
     "data": {
      "text/plain": [
       "'mahtwoG'"
      ]
     },
     "execution_count": 154,
     "metadata": {},
     "output_type": "execute_result"
    }
   ],
   "source": [
    "string_func(\"Gowtham\")"
   ]
  },
  {
   "cell_type": "code",
   "execution_count": 171,
   "metadata": {},
   "outputs": [
    {
     "name": "stdout",
     "output_type": "stream",
     "text": [
      "m\n"
     ]
    }
   ],
   "source": [
    "str = \"Gowtham\"\n",
    "a=len(str)\n",
    "b=str[a-1]\n",
    "print(b)"
   ]
  },
  {
   "cell_type": "code",
   "execution_count": 175,
   "metadata": {},
   "outputs": [
    {
     "name": "stdin",
     "output_type": "stream",
     "text": [
      "Enter the first name G\n",
      "Enter the last name V\n"
     ]
    },
    {
     "name": "stdout",
     "output_type": "stream",
     "text": [
      "G V\n"
     ]
    }
   ],
   "source": [
    "a=input(\"Enter the first name\")\n",
    "b=input(\"Enter the last name\")\n",
    "c=a +\" \"+ b\n",
    "print(c)"
   ]
  },
  {
   "cell_type": "code",
   "execution_count": 178,
   "metadata": {},
   "outputs": [],
   "source": [
    "def pig_latin(mystring):\n",
    "    if mystring[0] in 'aeiou':\n",
    "        return mystring+'ay'\n",
    "    else:\n",
    "        return mystring[1:]+mystring[0]+'ay'\n",
    "    "
   ]
  },
  {
   "cell_type": "code",
   "execution_count": 180,
   "metadata": {},
   "outputs": [
    {
     "data": {
      "text/plain": [
       "'oybay'"
      ]
     },
     "execution_count": 180,
     "metadata": {},
     "output_type": "execute_result"
    }
   ],
   "source": [
    "pig_latin('boy')"
   ]
  },
  {
   "cell_type": "code",
   "execution_count": 181,
   "metadata": {},
   "outputs": [],
   "source": [
    "def myfunc(a):\n",
    "    if a==1:\n",
    "        return 'Hello'\n",
    "    else:\n",
    "        return 'Goodbye'"
   ]
  },
  {
   "cell_type": "code",
   "execution_count": 183,
   "metadata": {},
   "outputs": [
    {
     "data": {
      "text/plain": [
       "'Hello'"
      ]
     },
     "execution_count": 183,
     "metadata": {},
     "output_type": "execute_result"
    }
   ],
   "source": [
    "myfunc(1)"
   ]
  },
  {
   "cell_type": "code",
   "execution_count": 190,
   "metadata": {},
   "outputs": [],
   "source": [
    "def percent(a,b):\n",
    "    return a*b*0.05"
   ]
  },
  {
   "cell_type": "code",
   "execution_count": 192,
   "metadata": {},
   "outputs": [
    {
     "data": {
      "text/plain": [
       "5.0"
      ]
     },
     "execution_count": 192,
     "metadata": {},
     "output_type": "execute_result"
    }
   ],
   "source": [
    "percent(10,10)"
   ]
  },
  {
   "cell_type": "code",
   "execution_count": 219,
   "metadata": {},
   "outputs": [],
   "source": [
    "def my_func(**kwargs):\n",
    "    a=append(kwargs)\n",
    "    print(kwargs)\n",
    "    \n",
    "    \n",
    "\n",
    "    "
   ]
  },
  {
   "cell_type": "code",
   "execution_count": 220,
   "metadata": {},
   "outputs": [
    {
     "ename": "NameError",
     "evalue": "name 'append' is not defined",
     "output_type": "error",
     "traceback": [
      "\u001b[1;31m---------------------------------------------------------------------------\u001b[0m",
      "\u001b[1;31mNameError\u001b[0m                                 Traceback (most recent call last)",
      "\u001b[1;32m<ipython-input-220-144631b9b83f>\u001b[0m in \u001b[0;36m<module>\u001b[1;34m\u001b[0m\n\u001b[1;32m----> 1\u001b[1;33m \u001b[0mmy_func\u001b[0m\u001b[1;33m(\u001b[0m\u001b[0mk1\u001b[0m\u001b[1;33m=\u001b[0m\u001b[1;34m'1'\u001b[0m\u001b[1;33m,\u001b[0m\u001b[0mk2\u001b[0m\u001b[1;33m=\u001b[0m\u001b[1;34m'2'\u001b[0m\u001b[1;33m)\u001b[0m\u001b[1;33m\u001b[0m\u001b[1;33m\u001b[0m\u001b[0m\n\u001b[0m",
      "\u001b[1;32m<ipython-input-219-7313465f6d6e>\u001b[0m in \u001b[0;36mmy_func\u001b[1;34m(**kwargs)\u001b[0m\n\u001b[0;32m      1\u001b[0m \u001b[1;32mdef\u001b[0m \u001b[0mmy_func\u001b[0m\u001b[1;33m(\u001b[0m\u001b[1;33m**\u001b[0m\u001b[0mkwargs\u001b[0m\u001b[1;33m)\u001b[0m\u001b[1;33m:\u001b[0m\u001b[1;33m\u001b[0m\u001b[1;33m\u001b[0m\u001b[0m\n\u001b[1;32m----> 2\u001b[1;33m     \u001b[0ma\u001b[0m\u001b[1;33m=\u001b[0m\u001b[0mappend\u001b[0m\u001b[1;33m(\u001b[0m\u001b[0mkwargs\u001b[0m\u001b[1;33m)\u001b[0m\u001b[1;33m\u001b[0m\u001b[1;33m\u001b[0m\u001b[0m\n\u001b[0m\u001b[0;32m      3\u001b[0m     \u001b[0mprint\u001b[0m\u001b[1;33m(\u001b[0m\u001b[0mkwargs\u001b[0m\u001b[1;33m)\u001b[0m\u001b[1;33m\u001b[0m\u001b[1;33m\u001b[0m\u001b[0m\n\u001b[0;32m      4\u001b[0m \u001b[1;33m\u001b[0m\u001b[0m\n\u001b[0;32m      5\u001b[0m \u001b[1;33m\u001b[0m\u001b[0m\n",
      "\u001b[1;31mNameError\u001b[0m: name 'append' is not defined"
     ]
    }
   ],
   "source": [
    "my_func(k1='1',k2='2')"
   ]
  },
  {
   "cell_type": "code",
   "execution_count": 239,
   "metadata": {},
   "outputs": [],
   "source": [
    "def even_list(*even):\n",
    "    list=[]\n",
    "    for i in even:\n",
    "        if i%2 == 0:\n",
    "            list.append(i)\n",
    "    return list\n",
    "        \n",
    "            \n",
    "            "
   ]
  },
  {
   "cell_type": "code",
   "execution_count": 241,
   "metadata": {},
   "outputs": [
    {
     "data": {
      "text/plain": [
       "[2, -4, 78, -96, 4]"
      ]
     },
     "execution_count": 241,
     "metadata": {},
     "output_type": "execute_result"
    }
   ],
   "source": [
    "even_list(2,5,-4,78,9,-96,7,4)"
   ]
  },
  {
   "cell_type": "code",
   "execution_count": 227,
   "metadata": {},
   "outputs": [],
   "source": [
    "def myfunc(*args):\n",
    "    Mylist = []\n",
    "    for j in args:\n",
    "        if j%2 == 0:\n",
    "           Mylist.append(j)\n",
    "        \n",
    "    return Mylist"
   ]
  },
  {
   "cell_type": "code",
   "execution_count": 224,
   "metadata": {},
   "outputs": [
    {
     "data": {
      "text/plain": [
       "[-2, -8, 4, 98, 6, 12, 14]"
      ]
     },
     "execution_count": 224,
     "metadata": {},
     "output_type": "execute_result"
    }
   ],
   "source": [
    "myfunc(-2,-8,-7,4,98,6,7,5,3,12,14)"
   ]
  },
  {
   "cell_type": "code",
   "execution_count": 299,
   "metadata": {},
   "outputs": [],
   "source": [
    "def myfunc(mystring):\n",
    "    c=\"\"\n",
    "    for i,j in enumerate(mystring):\n",
    "        if i%2 == 0:\n",
    "            c+=j.lower()\n",
    "        else:\n",
    "            c+=j.upper()\n",
    "    return c\n",
    "               \n",
    "            "
   ]
  },
  {
   "cell_type": "code",
   "execution_count": 300,
   "metadata": {},
   "outputs": [
    {
     "data": {
      "text/plain": [
       "'gOwThAm'"
      ]
     },
     "execution_count": 300,
     "metadata": {},
     "output_type": "execute_result"
    }
   ],
   "source": [
    "myfunc('GOWTHAM')"
   ]
  },
  {
   "cell_type": "code",
   "execution_count": 261,
   "metadata": {},
   "outputs": [],
   "source": [
    "def myfunc(words):\n",
    "    result = ''\n",
    "    for a,b in enumerate(words):\n",
    "        if a%2 ==0:\n",
    "         result += b.lower()\n",
    "        else:\n",
    "         result += b.upper()\n",
    "   \n",
    "    return result  \n",
    "           "
   ]
  },
  {
   "cell_type": "code",
   "execution_count": 262,
   "metadata": {},
   "outputs": [
    {
     "data": {
      "text/plain": [
       "'gOwThAm'"
      ]
     },
     "execution_count": 262,
     "metadata": {},
     "output_type": "execute_result"
    }
   ],
   "source": [
    "myfunc('gowtham')"
   ]
  },
  {
   "cell_type": "code",
   "execution_count": 11,
   "metadata": {},
   "outputs": [],
   "source": [
    "def even_odd(a,b):\n",
    "    if a%2 == 0 and b%2 ==0:\n",
    "        return min(a,b)\n",
    "    else:\n",
    "        return max(a,b)"
   ]
  },
  {
   "cell_type": "code",
   "execution_count": 12,
   "metadata": {},
   "outputs": [
    {
     "data": {
      "text/plain": [
       "7"
      ]
     },
     "execution_count": 12,
     "metadata": {},
     "output_type": "execute_result"
    }
   ],
   "source": [
    "even_odd(7,5)"
   ]
  },
  {
   "cell_type": "code",
   "execution_count": 9,
   "metadata": {},
   "outputs": [],
   "source": [
    "def same_letter(str1,str2):\n",
    "    for i,j in enumerate(str1):\n",
    "        for a,b in enumerate(str2):\n",
    "            print(j)\n",
    "            if j == b:\n",
    "                return True\n",
    "            else:\n",
    "                return False"
   ]
  },
  {
   "cell_type": "code",
   "execution_count": 10,
   "metadata": {},
   "outputs": [
    {
     "name": "stdout",
     "output_type": "stream",
     "text": [
      "g\n"
     ]
    },
    {
     "data": {
      "text/plain": [
       "True"
      ]
     },
     "execution_count": 10,
     "metadata": {},
     "output_type": "execute_result"
    }
   ],
   "source": [
    "same_letter('gowtham','gowtham')"
   ]
  },
  {
   "cell_type": "code",
   "execution_count": 327,
   "metadata": {},
   "outputs": [],
   "source": [
    "def seven(n):\n",
    "    if n < 7:\n",
    "        return n+7\n",
    "    else:\n",
    "        return n-7"
   ]
  },
  {
   "cell_type": "code",
   "execution_count": 328,
   "metadata": {},
   "outputs": [
    {
     "data": {
      "text/plain": [
       "5"
      ]
     },
     "execution_count": 328,
     "metadata": {},
     "output_type": "execute_result"
    }
   ],
   "source": [
    "seven(12)"
   ]
  },
  {
   "cell_type": "code",
   "execution_count": 333,
   "metadata": {},
   "outputs": [],
   "source": [
    "def capital(mystring):\n",
    "    result =\"\"\n",
    "    result +=result + mystring[0].upper() + mystring[1:3] + mystring[3].upper() + mystring[4:]\n",
    "    return result"
   ]
  },
  {
   "cell_type": "code",
   "execution_count": 349,
   "metadata": {},
   "outputs": [
    {
     "data": {
      "text/plain": [
       "'GowTha'"
      ]
     },
     "execution_count": 349,
     "metadata": {},
     "output_type": "execute_result"
    }
   ],
   "source": [
    "capital('gowtha')"
   ]
  },
  {
   "cell_type": "code",
   "execution_count": 1,
   "metadata": {},
   "outputs": [],
   "source": [
    "def rev(string):\n",
    "    return string\n",
    "    "
   ]
  },
  {
   "cell_type": "raw",
   "metadata": {},
   "source": [
    "rev('gowtham')"
   ]
  },
  {
   "cell_type": "code",
   "execution_count": 23,
   "metadata": {},
   "outputs": [
    {
     "name": "stdout",
     "output_type": "stream",
     "text": [
      "    *    \n",
      "  *   *  \n",
      " *     *  \n",
      "*********\n",
      "*       *\n",
      "*       *\n",
      "*       *\n"
     ]
    }
   ],
   "source": [
    "pattern = {'k1':\"    *    \",'k6':\"  *   *  \",'k2':\" *     *  \",'k3':\"*********\",'k5':\"*       *\",'k4':\"*       *\",'k5':\"*       *\",'k7':\"*       *\"}\n",
    "for item,value in pattern.items():\n",
    "    print(value)\n"
   ]
  },
  {
   "cell_type": "code",
   "execution_count": 22,
   "metadata": {},
   "outputs": [
    {
     "data": {
      "text/plain": [
       "{'k1': '    *    ',\n",
       " 'k6': '  *   *  ',\n",
       " 'k2': ' *     *  ',\n",
       " 'k3': '*********',\n",
       " 'k5': '*       *',\n",
       " 'k4': '*       *',\n",
       " 'k7': '*       *'}"
      ]
     },
     "execution_count": 22,
     "metadata": {},
     "output_type": "execute_result"
    }
   ],
   "source": [
    "pattern"
   ]
  },
  {
   "cell_type": "raw",
   "metadata": {},
   "source": [
    "\n"
   ]
  },
  {
   "cell_type": "code",
   "execution_count": 9,
   "metadata": {},
   "outputs": [],
   "source": [
    "def square():\n",
    "    for num in range(1,31):\n",
    "        num = num * num\n",
    "        print(num)\n",
    "        "
   ]
  },
  {
   "cell_type": "code",
   "execution_count": 10,
   "metadata": {},
   "outputs": [
    {
     "name": "stdout",
     "output_type": "stream",
     "text": [
      "1\n",
      "4\n",
      "9\n",
      "16\n",
      "25\n",
      "36\n",
      "49\n",
      "64\n",
      "81\n",
      "100\n",
      "121\n",
      "144\n",
      "169\n",
      "196\n",
      "225\n",
      "256\n",
      "289\n",
      "324\n",
      "361\n",
      "400\n",
      "441\n",
      "484\n",
      "529\n",
      "576\n",
      "625\n",
      "676\n",
      "729\n",
      "784\n",
      "841\n",
      "900\n"
     ]
    }
   ],
   "source": [
    "square()"
   ]
  },
  {
   "cell_type": "code",
   "execution_count": 5,
   "metadata": {},
   "outputs": [],
   "source": [
    "\n",
    "\n",
    "def hyphen(string):\n",
    "    sp = string.split('-')\n",
    "    return sp\n"
   ]
  },
  {
   "cell_type": "code",
   "execution_count": 6,
   "metadata": {},
   "outputs": [
    {
     "data": {
      "text/plain": [
       "['black', 'green', 'red', 'white', 'yellow']"
      ]
     },
     "execution_count": 6,
     "metadata": {},
     "output_type": "execute_result"
    }
   ],
   "source": [
    "hyphen('black-green-red-white-yellow')"
   ]
  },
  {
   "cell_type": "code",
   "execution_count": 24,
   "metadata": {},
   "outputs": [
    {
     "name": "stdout",
     "output_type": "stream",
     "text": [
      "hello\n"
     ]
    }
   ],
   "source": [
    "print(\"hello\")"
   ]
  },
  {
   "cell_type": "code",
   "execution_count": 27,
   "metadata": {},
   "outputs": [],
   "source": [
    "def lesser(a,b):\n",
    "     if a%2 == 0 and b%2 ==0:\n",
    "        return min(a,b)\n",
    "     else:\n",
    "        return max(a,b)"
   ]
  },
  {
   "cell_type": "code",
   "execution_count": 28,
   "metadata": {},
   "outputs": [
    {
     "data": {
      "text/plain": [
       "2"
      ]
     },
     "execution_count": 28,
     "metadata": {},
     "output_type": "execute_result"
    }
   ],
   "source": [
    "lesser(2,4)"
   ]
  },
  {
   "cell_type": "code",
   "execution_count": 29,
   "metadata": {},
   "outputs": [
    {
     "data": {
      "text/plain": [
       "5"
      ]
     },
     "execution_count": 29,
     "metadata": {},
     "output_type": "execute_result"
    }
   ],
   "source": [
    "lesser(2,5)"
   ]
  },
  {
   "cell_type": "code",
   "execution_count": 52,
   "metadata": {},
   "outputs": [],
   "source": [
    "def check(text):\n",
    "    a = text.split()\n",
    "    if a[0][0] == a[1][0]:\n",
    "        return True\n",
    "    else:\n",
    "        return False"
   ]
  },
  {
   "cell_type": "code",
   "execution_count": 53,
   "metadata": {},
   "outputs": [
    {
     "data": {
      "text/plain": [
       "False"
      ]
     },
     "execution_count": 53,
     "metadata": {},
     "output_type": "execute_result"
    }
   ],
   "source": [
    "check('Gowtham Vignesh')"
   ]
  },
  {
   "cell_type": "code",
   "execution_count": 54,
   "metadata": {},
   "outputs": [
    {
     "data": {
      "text/plain": [
       "True"
      ]
     },
     "execution_count": 54,
     "metadata": {},
     "output_type": "execute_result"
    }
   ],
   "source": [
    "check('Gowtham Gowtham')"
   ]
  },
  {
   "cell_type": "code",
   "execution_count": 68,
   "metadata": {},
   "outputs": [],
   "source": [
    "def multiply(text):\n",
    "    c = ''\n",
    "    for i in text:\n",
    "        c+=i*3\n",
    "    return c"
   ]
  },
  {
   "cell_type": "code",
   "execution_count": 69,
   "metadata": {},
   "outputs": [
    {
     "data": {
      "text/plain": [
       "'gggooowwwttthhhaaammm'"
      ]
     },
     "execution_count": 69,
     "metadata": {},
     "output_type": "execute_result"
    }
   ],
   "source": [
    "multiply('gowtham')"
   ]
  },
  {
   "cell_type": "code",
   "execution_count": 95,
   "metadata": {},
   "outputs": [],
   "source": [
    "def summer(*arr):\n",
    "    c = 0\n",
    "    for i in arr:\n",
    "        if i!=6 and i!=9:\n",
    "            c+=i\n",
    "        elif i == 6:\n",
    "            break\n",
    "        \n",
    "    return c\n",
    "\n",
    "        \n",
    "        "
   ]
  },
  {
   "cell_type": "code",
   "execution_count": 96,
   "metadata": {},
   "outputs": [
    {
     "data": {
      "text/plain": [
       "15"
      ]
     },
     "execution_count": 96,
     "metadata": {},
     "output_type": "execute_result"
    }
   ],
   "source": [
    "summer(1,2,3,4,5,6,7,8,9,10)"
   ]
  },
  {
   "cell_type": "code",
   "execution_count": 98,
   "metadata": {},
   "outputs": [],
   "source": [
    "x = ['Andy','Gowtham']\n"
   ]
  },
  {
   "cell_type": "code",
   "execution_count": 101,
   "metadata": {},
   "outputs": [
    {
     "data": {
      "text/plain": [
       "['A', 'G']"
      ]
     },
     "execution_count": 101,
     "metadata": {},
     "output_type": "execute_result"
    }
   ],
   "source": [
    "list(map(lambda x:x[0],x))"
   ]
  },
  {
   "cell_type": "code",
   "execution_count": 102,
   "metadata": {},
   "outputs": [
    {
     "data": {
      "text/plain": [
       "['ydnA', 'mahtwoG']"
      ]
     },
     "execution_count": 102,
     "metadata": {},
     "output_type": "execute_result"
    }
   ],
   "source": [
    "list(map(lambda x:x[::-1],x))"
   ]
  },
  {
   "cell_type": "code",
   "execution_count": 114,
   "metadata": {},
   "outputs": [
    {
     "name": "stdout",
     "output_type": "stream",
     "text": [
      "A\n",
      "G\n"
     ]
    }
   ],
   "source": [
    "for i in x:\n",
    "    \n",
    "    print(i[0][0])\n"
   ]
  },
  {
   "cell_type": "code",
   "execution_count": 122,
   "metadata": {},
   "outputs": [
    {
     "name": "stdout",
     "output_type": "stream",
     "text": [
      "15\n"
     ]
    }
   ],
   "source": [
    "x = lambda a : a + 10\n",
    "print(x(5))"
   ]
  },
  {
   "cell_type": "code",
   "execution_count": 130,
   "metadata": {},
   "outputs": [
    {
     "ename": "SyntaxError",
     "evalue": "invalid syntax (<ipython-input-130-9f2872317695>, line 3)",
     "output_type": "error",
     "traceback": [
      "\u001b[1;36m  File \u001b[1;32m\"<ipython-input-130-9f2872317695>\"\u001b[1;36m, line \u001b[1;32m3\u001b[0m\n\u001b[1;33m    return volume=(4/3)*3.14*pow(rad*3)\u001b[0m\n\u001b[1;37m                 ^\u001b[0m\n\u001b[1;31mSyntaxError\u001b[0m\u001b[1;31m:\u001b[0m invalid syntax\n"
     ]
    }
   ],
   "source": [
    "def volume(rad):\n",
    "    volume = 0\n",
    "    volume = (4/3)*3.14*pow(rad*3)\n",
    "    return volume\n",
    "    "
   ]
  },
  {
   "cell_type": "code",
   "execution_count": null,
   "metadata": {},
   "outputs": [],
   "source": []
  },
  {
   "cell_type": "code",
   "execution_count": 127,
   "metadata": {},
   "outputs": [
    {
     "data": {
      "text/plain": [
       "33.49333333333333"
      ]
     },
     "execution_count": 127,
     "metadata": {},
     "output_type": "execute_result"
    }
   ],
   "source": [
    "volume(2)"
   ]
  },
  {
   "cell_type": "code",
   "execution_count": 146,
   "metadata": {},
   "outputs": [],
   "source": [
    "def list(l):\n",
    "    total = 1\n",
    "    for i in l:\n",
    "        total = total * i\n",
    "    return total\n",
    "    "
   ]
  },
  {
   "cell_type": "code",
   "execution_count": 149,
   "metadata": {},
   "outputs": [
    {
     "data": {
      "text/plain": [
       "-32"
      ]
     },
     "execution_count": 149,
     "metadata": {},
     "output_type": "execute_result"
    }
   ],
   "source": [
    "list([2,2,2,2,-2])"
   ]
  },
  {
   "cell_type": "code",
   "execution_count": 151,
   "metadata": {},
   "outputs": [
    {
     "ename": "IndentationError",
     "evalue": "unindent does not match any outer indentation level (<tokenize>, line 15)",
     "output_type": "error",
     "traceback": [
      "\u001b[1;36m  File \u001b[1;32m\"<tokenize>\"\u001b[1;36m, line \u001b[1;32m15\u001b[0m\n\u001b[1;33m    10.     print(' ' + board[7] + ' | ' + board[8] + ' | ' + board[9])\u001b[0m\n\u001b[1;37m    ^\u001b[0m\n\u001b[1;31mIndentationError\u001b[0m\u001b[1;31m:\u001b[0m unindent does not match any outer indentation level\n"
     ]
    }
   ],
   "source": [
    "import random\n",
    "\n",
    "  4.\n",
    "\n",
    "  5. def drawBoard(board):\n",
    "\n",
    "  6.     # This function prints out the board that it was passed.\n",
    "\n",
    "  7.\n",
    "\n",
    "  8.     # \"board\" is a list of 10 strings representing the board (ignore index 0)\n",
    "\n",
    "  9.     print('   |   |')\n",
    "\n",
    " 10.     print(' ' + board[7] + ' | ' + board[8] + ' | ' + board[9])\n",
    "\n",
    " 11.     print('   |   |')\n",
    "\n",
    " 12.     print('-----------')\n",
    "\n",
    " 13.     print('   |   |')\n",
    "\n",
    " 14.     print(' ' + board[4] + ' | ' + board[5] + ' | ' + board[6])\n",
    "\n",
    " 15.     print('   |   |')\n",
    "\n",
    " 16.     print('-----------')\n",
    "\n",
    " 17.     print('   |   |')\n",
    "\n",
    " 18.     print(' ' + board[1] + ' | ' + board[2] + ' | ' + board[3])\n",
    "\n",
    " 19.     print('   |   |')\n",
    "\n",
    " 20.\n",
    "\n",
    " 21. def inputPlayerLetter():\n",
    "\n",
    " 22.     # Lets the player type which letter they want to be.\n",
    "\n",
    " 23.     # Returns a list with the player’s letter as the first item, and the computer's letter as the second.\n",
    "\n",
    " 24.     letter = ''\n",
    "\n",
    " 25.     while not (letter == 'X' or letter == 'O'):\n",
    "\n",
    " 26.         print('Do you want to be X or O?')\n",
    "\n",
    " 27.         letter = input().upper()\n",
    "\n",
    " 28.\n",
    "\n",
    " 29.     # the first element in the list is the player’s letter, the second is the computer's letter.\n",
    "\n",
    " 30.     if letter == 'X':\n",
    "\n",
    " 31.         return ['X', 'O']\n",
    "\n",
    " 32.     else:\n",
    "\n",
    " 33.         return ['O', 'X']\n",
    "\n",
    " 34.\n",
    "\n",
    " 35. def whoGoesFirst():\n",
    "\n",
    " 36.     # Randomly choose the player who goes first.\n",
    "\n",
    " 37.     if random.randint(0, 1) == 0:\n",
    "\n",
    " 38.         return 'computer'\n",
    "\n",
    " 39.     else:\n",
    "\n",
    " 40.         return 'player'\n",
    "\n",
    " 41.\n",
    "\n",
    " 42. def playAgain():\n",
    "\n",
    " 43.     # This function returns True if the player wants to play again, otherwise it returns False.\n",
    "\n",
    " 44.     print('Do you want to play again? (yes or no)')\n",
    "\n",
    " 45.     return input().lower().startswith('y')\n",
    "\n",
    " 46.\n",
    "\n",
    " 47. def makeMove(board, letter, move):\n",
    "\n",
    " 48.     board[move] = letter\n",
    "\n",
    " 49.\n",
    "\n",
    " 50. def isWinner(bo, le):\n",
    "\n",
    " 51.     # Given a board and a player’s letter, this function returns True if that player has won.\n",
    "\n",
    " 52.     # We use bo instead of board and le instead of letter so we don’t have to type as much.\n",
    "\n",
    " 53.     return ((bo[7] == le and bo[8] == le and bo[9] == le) or # across the top\n",
    "\n",
    " 54.     (bo[4] == le and bo[5] == le and bo[6] == le) or # across the middle\n",
    "\n",
    " 55.     (bo[1] == le and bo[2] == le and bo[3] == le) or # across the bottom\n",
    "\n",
    " 56.     (bo[7] == le and bo[4] == le and bo[1] == le) or # down the left side\n",
    "\n",
    " 57.     (bo[8] == le and bo[5] == le and bo[2] == le) or # down the middle\n",
    "\n",
    " 58.     (bo[9] == le and bo[6] == le and bo[3] == le) or # down the right side\n",
    "\n",
    " 59.     (bo[7] == le and bo[5] == le and bo[3] == le) or # diagonal\n",
    "\n",
    " 60.     (bo[9] == le and bo[5] == le and bo[1] == le)) # diagonal\n",
    "\n",
    " 61.\n",
    "\n",
    " 62. def getBoardCopy(board):\n",
    "\n",
    " 63.     # Make a duplicate of the board list and return it the duplicate.\n",
    "\n",
    " 64.     dupeBoard = []\n",
    "\n",
    " 65.\n",
    "\n",
    " 66.     for i in board:\n",
    "\n",
    " 67.         dupeBoard.append(i)\n",
    "\n",
    " 68.\n",
    "\n",
    " 69.     return dupeBoard\n",
    "\n",
    " 70.\n",
    "\n",
    " 71. def isSpaceFree(board, move):\n",
    "\n",
    " 72.     # Return true if the passed move is free on the passed board.\n",
    "\n",
    " 73.     return board[move] == ' '\n",
    "\n",
    " 74.\n",
    "\n",
    " 75. def getPlayerMove(board):\n",
    "\n",
    " 76.     # Let the player type in their move.\n",
    "\n",
    " 77.     move = ' '\n",
    "\n",
    " 78.     while move not in '1 2 3 4 5 6 7 8 9'.split() or not isSpaceFree(board, int(move)):\n",
    "\n",
    " 79.         print('What is your next move? (1-9)')\n",
    "\n",
    " 80.         move = input()\n",
    "\n",
    " 81.     return int(move)\n",
    "\n",
    " 82.\n",
    "\n",
    " 83. def chooseRandomMoveFromList(board, movesList):\n",
    "\n",
    " 84.     # Returns a valid move from the passed list on the passed board.\n",
    "\n",
    " 85.     # Returns None if there is no valid move.\n",
    "\n",
    " 86.     possibleMoves = []\n",
    "\n",
    " 87.     for i in movesList:\n",
    "\n",
    " 88.         if isSpaceFree(board, i):\n",
    "\n",
    " 89.             possibleMoves.append(i)\n",
    "\n",
    " 90.\n",
    "\n",
    " 91.     if len(possibleMoves) != 0:\n",
    "\n",
    " 92.         return random.choice(possibleMoves)\n",
    "\n",
    " 93.     else:\n",
    "\n",
    " 94.         return None\n",
    "\n",
    " 95.\n",
    "\n",
    " 96. def getComputerMove(board, computerLetter):\n",
    "\n",
    " 97.     # Given a board and the computer's letter, determine where to move and return that move.\n",
    "\n",
    " 98.     if computerLetter == 'X':\n",
    "\n",
    " 99.         playerLetter = 'O'\n",
    "\n",
    "100.     else:\n",
    "\n",
    "101.         playerLetter = 'X'\n",
    "\n",
    "102.\n",
    "\n",
    "103.     # Here is our algorithm for our Tic Tac Toe AI:\n",
    "\n",
    "104.     # First, check if we can win in the next move\n",
    "\n",
    "105.     for i in range(1, 10):\n",
    "\n",
    "106.         copy = getBoardCopy(board)\n",
    "\n",
    "107.         if isSpaceFree(copy, i):\n",
    "\n",
    "108.             makeMove(copy, computerLetter, i)\n",
    "\n",
    "109.             if isWinner(copy, computerLetter):\n",
    "\n",
    "110.                 return i\n",
    "\n",
    "111.\n",
    "\n",
    "112.     # Check if the player could win on their next move, and block them.\n",
    "\n",
    "113.     for i in range(1, 10):\n",
    "\n",
    "114.         copy = getBoardCopy(board)\n",
    "\n",
    "115.         if isSpaceFree(copy, i):\n",
    "\n",
    "116.             makeMove(copy, playerLetter, i)\n",
    "\n",
    "117.             if isWinner(copy, playerLetter):\n",
    "\n",
    "118.                 return i\n",
    "\n",
    "119.\n",
    "\n",
    "120.     # Try to take one of the corners, if they are free.\n",
    "\n",
    "121.     move = chooseRandomMoveFromList(board, [1, 3, 7, 9])\n",
    "\n",
    "122.     if move != None:\n",
    "\n",
    "123.         return move\n",
    "\n",
    "124.\n",
    "\n",
    "125.     # Try to take the center, if it is free.\n",
    "\n",
    "126.     if isSpaceFree(board, 5):\n",
    "\n",
    "127.         return 5\n",
    "\n",
    "128.\n",
    "\n",
    "129.     # Move on one of the sides.\n",
    "\n",
    "130.     return chooseRandomMoveFromList(board, [2, 4, 6, 8])\n",
    "\n",
    "131.\n",
    "\n",
    "132. def isBoardFull(board):\n",
    "\n",
    "133.     # Return True if every space on the board has been taken. Otherwise return False.\n",
    "\n",
    "134.     for i in range(1, 10):\n",
    "\n",
    "135.         if isSpaceFree(board, i):\n",
    "\n",
    "136.             return False\n",
    "\n",
    "137.     return True\n",
    "\n",
    "138.\n",
    "\n",
    "139.\n",
    "\n",
    "140. print('Welcome to Tic Tac Toe!')\n",
    "\n",
    "141.\n",
    "\n",
    "142. while True:\n",
    "\n",
    "143.     # Reset the board\n",
    "\n",
    "144.     theBoard = [' '] * 10\n",
    "\n",
    "145.     playerLetter, computerLetter = inputPlayerLetter()\n",
    "\n",
    "146.     turn = whoGoesFirst()\n",
    "\n",
    "147.     print('The ' + turn + ' will go first.')\n",
    "\n",
    "148.     gameIsPlaying = True\n",
    "\n",
    "149.\n",
    "\n",
    "150.     while gameIsPlaying:\n",
    "\n",
    "151.         if turn == 'player':\n",
    "\n",
    "152.             # Player’s turn.\n",
    "\n",
    "153.             drawBoard(theBoard)\n",
    "\n",
    "154.             move = getPlayerMove(theBoard)\n",
    "\n",
    "155.             makeMove(theBoard, playerLetter, move)\n",
    "\n",
    "156.\n",
    "\n",
    "157.             if isWinner(theBoard, playerLetter):\n",
    "\n",
    "158.                 drawBoard(theBoard)\n",
    "\n",
    "159.                 print('Hooray! You have won the game!')\n",
    "\n",
    "160.                 gameIsPlaying = False\n",
    "\n",
    "161.             else:\n",
    "\n",
    "162.                 if isBoardFull(theBoard):\n",
    "\n",
    "163.                     drawBoard(theBoard)\n",
    "\n",
    "164.                     print('The game is a tie!')\n",
    "\n",
    "165.                     break\n",
    "\n",
    "166.                 else:\n",
    "\n",
    "167.                     turn = 'computer'\n",
    "\n",
    "168.\n",
    "\n",
    "169.         else:\n",
    "\n",
    "170.             # Computer’s turn.\n",
    "\n",
    "171.             move = getComputerMove(theBoard, computerLetter)\n",
    "\n",
    "172.             makeMove(theBoard, computerLetter, move)\n",
    "\n",
    "173.\n",
    "\n",
    "174.             if isWinner(theBoard, computerLetter):\n",
    "\n",
    "175.                 drawBoard(theBoard)\n",
    "\n",
    "176.                 print('The computer has beaten you! You lose.')\n",
    "\n",
    "177.                 gameIsPlaying = False\n",
    "\n",
    "178.             else:\n",
    "\n",
    "179.                 if isBoardFull(theBoard):\n",
    "\n",
    "180.                     drawBoard(theBoard)\n",
    "\n",
    "181.                     print('The game is a tie!')\n",
    "\n",
    "182.                     break\n",
    "\n",
    "183.                 else:\n",
    "\n",
    "184.                     turn = 'player'\n",
    "\n",
    "185.\n",
    "\n",
    "186.     if not playAgain():\n",
    "\n",
    "187.         break"
   ]
  },
  {
   "cell_type": "code",
   "execution_count": null,
   "metadata": {},
   "outputs": [],
   "source": []
  },
  {
   "cell_type": "code",
   "execution_count": null,
   "metadata": {},
   "outputs": [],
   "source": []
  }
 ],
 "metadata": {
  "kernelspec": {
   "display_name": "Python 3",
   "language": "python",
   "name": "python3"
  },
  "language_info": {
   "codemirror_mode": {
    "name": "ipython",
    "version": 3
   },
   "file_extension": ".py",
   "mimetype": "text/x-python",
   "name": "python",
   "nbconvert_exporter": "python",
   "pygments_lexer": "ipython3",
   "version": "3.7.3"
  }
 },
 "nbformat": 4,
 "nbformat_minor": 4
}
